{
 "cells": [
  {
   "cell_type": "code",
   "execution_count": 16,
   "id": "50b4a1a9-d263-4cf5-993a-54c9612b4692",
   "metadata": {
    "tags": []
   },
   "outputs": [],
   "source": [
    "import sys\n",
    "import os\n",
    "import torch as tc\n",
    "sys.path.append(\"../\")\n",
    "from src.binomial_tree import binomial_tree"
   ]
  },
  {
   "cell_type": "markdown",
   "id": "f3e3e4fe-012a-46bc-99f6-88087e3c9003",
   "metadata": {},
   "source": [
    "## Example 13.1\n",
    "\n",
    "Page 305, call price is 53.3947"
   ]
  },
  {
   "cell_type": "code",
   "execution_count": 19,
   "id": "b34583b8-fa9f-4726-8cb9-6fb29505a6fc",
   "metadata": {
    "tags": []
   },
   "outputs": [
    {
     "data": {
      "text/plain": [
       "tensor(53.3947)"
      ]
     },
     "execution_count": 19,
     "metadata": {},
     "output_type": "execute_result"
    }
   ],
   "source": [
    "call_price = binomial_tree(\"root\", [], 0, tc.tensor([0.2, 810, 800, 0.05, 0.02, 0.25]), 2, [])\n",
    "call_price.build_tree_to_depth()\n",
    "call_price.value"
   ]
  },
  {
   "cell_type": "markdown",
   "id": "4f2cc74d-688c-4f4e-8eed-71738fba789d",
   "metadata": {},
   "source": [
    "## Example 13.2\n",
    "\n",
    "Page 306, put price is 0.019, early exercise at the 2nd upward node"
   ]
  },
  {
   "cell_type": "code",
   "execution_count": 22,
   "id": "097412fd-6a5f-43b5-bcb6-e06128f8f9aa",
   "metadata": {
    "tags": []
   },
   "outputs": [
    {
     "name": "stdout",
     "output_type": "stream",
     "text": [
      "Early exercies at: root_u_u\n"
     ]
    },
    {
     "data": {
      "text/plain": [
       "tensor(0.0189)"
      ]
     },
     "execution_count": 22,
     "metadata": {},
     "output_type": "execute_result"
    }
   ],
   "source": [
    "put_price = binomial_tree(\"root\", [], 0, tc.tensor([0.12, 0.61, 0.6, 0.05, 0.07, 0.083333]), 3, [],\n",
    "                  eu_am = \"American\")\n",
    "put_price.build_tree_to_depth()\n",
    "put_price.value"
   ]
  }
 ],
 "metadata": {
  "kernelspec": {
   "display_name": "Python 3 (ipykernel)",
   "language": "python",
   "name": "python3"
  },
  "language_info": {
   "codemirror_mode": {
    "name": "ipython",
    "version": 3
   },
   "file_extension": ".py",
   "mimetype": "text/x-python",
   "name": "python",
   "nbconvert_exporter": "python",
   "pygments_lexer": "ipython3",
   "version": "3.11.0"
  }
 },
 "nbformat": 4,
 "nbformat_minor": 5
}
