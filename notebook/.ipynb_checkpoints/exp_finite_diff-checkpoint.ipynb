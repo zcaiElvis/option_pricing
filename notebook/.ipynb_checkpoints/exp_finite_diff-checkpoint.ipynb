{
 "cells": [
  {
   "cell_type": "code",
   "execution_count": 2,
   "id": "d9295d6b-9a62-4316-bf5f-ee1f6b919c70",
   "metadata": {
    "tags": []
   },
   "outputs": [],
   "source": [
    "import sys\n",
    "import torch as tc\n",
    "sys.path.append(\"../\")\n",
    "from src.explicit_finite_diff import finite_difference"
   ]
  },
  {
   "cell_type": "code",
   "execution_count": 5,
   "id": "0b6271b7-6c85-4865-aa39-c17043c80169",
   "metadata": {
    "tags": []
   },
   "outputs": [],
   "source": [
    "f_grid = finite_difference(0.1, 0, 0.2, 50, 0.4167, 5, 0.0417)\n",
    "f_price = f_grid.create_grid()"
   ]
  },
  {
   "cell_type": "markdown",
   "id": "907a5579-61ca-47a3-88f2-e917c09158bc",
   "metadata": {},
   "source": [
    "## Should match with example in Table 21.5\n",
    "\n",
    "The following should match the second last columns of Table 21.5, but it's not"
   ]
  },
  {
   "cell_type": "code",
   "execution_count": 8,
   "id": "dddcb12d-c751-45f9-b6f6-a9e9dc4351e7",
   "metadata": {
    "tags": []
   },
   "outputs": [
    {
     "data": {
      "text/plain": [
       "tensor([50.0000, 44.7924, 39.7924, 34.7924, 29.7924, 24.7924, 19.7924, 14.7924,\n",
       "         9.7924,  4.7924,  0.3115,  0.0000,  0.0000,  0.0000,  0.0000,  0.0000,\n",
       "         0.0000,  0.0000,  0.0000,  0.0000,  0.0000])"
      ]
     },
     "execution_count": 8,
     "metadata": {},
     "output_type": "execute_result"
    }
   ],
   "source": [
    "f_price[9, :]"
   ]
  }
 ],
 "metadata": {
  "kernelspec": {
   "display_name": "Python 3 (ipykernel)",
   "language": "python",
   "name": "python3"
  },
  "language_info": {
   "codemirror_mode": {
    "name": "ipython",
    "version": 3
   },
   "file_extension": ".py",
   "mimetype": "text/x-python",
   "name": "python",
   "nbconvert_exporter": "python",
   "pygments_lexer": "ipython3",
   "version": "3.11.0"
  }
 },
 "nbformat": 4,
 "nbformat_minor": 5
}
